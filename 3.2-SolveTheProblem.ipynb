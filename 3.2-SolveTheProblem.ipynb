{
 "cells": [
  {
   "cell_type": "markdown",
   "metadata": {},
   "source": [
    "3.2 - Solve the problem\n",
    "Alert incident in transactions: Implement the concept of a simple monitoring with real time alert with notifications to teams.\n",
    "\n",
    "The monitoring works by receiving information about a transaction and inferring whether it is a failed or denied, or reversed or aprroved transaction. We work mostly with SQL, PromQL, Ruby and Python, but you can use any programming language that you want.\n",
    "\n",
    "Please use the data of this csv and the data of this csv. Consider that transactions with the flag denied are transactions denied by risk of the issuers. Consider that transactions with the flag reversed or failed are transactions with problems. Note: F1 represents the quantity of transactions per minute from all pos from our costumers. So with this data you can see the diferent status per minute and see if it is going well or not. When you see the padron, you can predict a alarm for the anomaly.\n",
    "\n",
    "Your Monitoring alert system must have at least: 1 endpoint that receives transaction data and returns a recommendation to “alert” the anomalies found in transactions. A query to organize the data on the data and a graphic to see the data in real time. A model to determine anomalies and a system to report the anomalies automatically.\n",
    "\n",
    "You are free to determine the methods to approve/deny the transactions, but a few ways to do it are:\n",
    "- rule-based - you define which cases get alerted based on predefined rules;\n",
    "- score-base - you create a method/model (you could use machine learning models here if you want) to determine the anomaly -- score of a transaction and make your decision based on it;\n",
    "- a combination of both;\n",
    "\n",
    "Monitoring alert Requirements\n",
    "- Alert transactions if failed transactions are above normal;\n",
    "- Alert transactions if reversed transactions are above normal;\n",
    "- Alert transactions if denied transactions are above normal;"
   ]
  },
  {
   "cell_type": "code",
   "execution_count": null,
   "metadata": {},
   "outputs": [],
   "source": [
    "# 1. LER DADOS\n",
    "# 2. SQL - FILTRAR / TRABALHAR DADOS (QUERY)\n",
    "#   - FAZER GRÁFICO DE CADA BANCO PARA VER COMPORTAMENTO, É PARECIDO? NÃO? VALE A PENA INTEGRÁ-LOS?\n",
    "#   - INTEGRAR DADOS? USO DO SQL\n",
    "#   - TRAÇAR O GRÁFICO INTEGRADO E TENTAR ENTENDER O PADRÃO\n",
    "# 3. DEFINIR PREMISSA DOS ALERTAS\n",
    "#   - FICAR DE OLHO NA EXIGÊNCIAS DO PROBLEMA"
   ]
  }
 ],
 "metadata": {
  "language_info": {
   "name": "python"
  },
  "orig_nbformat": 4
 },
 "nbformat": 4,
 "nbformat_minor": 2
}
