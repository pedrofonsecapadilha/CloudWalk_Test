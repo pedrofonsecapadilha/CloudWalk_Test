{
 "cells": [
  {
   "cell_type": "markdown",
   "metadata": {},
   "source": [
    "3.1 - Get your hands dirty\n",
    "Using this csv (checkout_1) and using this csv (checkout_2) with hypothetical checkout data, imagine that you are trying to understand if there is any kind of anomaly behavior.\n",
    "\n",
    "1. Analyze the data provided and present your conclusions .\n",
    "2. In addition to the spreadsheet data, make a query in SQL and make a graphic of it and try to explain the anomaly behavior you found.\n",
    "3. In this csv you have the number of sales of POS by hour comparing the same sales per hour from today, yesterday and the average of other days. So with this we can see the behavior from today and compare to other days"
   ]
  },
  {
   "cell_type": "code",
   "execution_count": null,
   "metadata": {
    "vscode": {
     "languageId": "plaintext"
    }
   },
   "outputs": [],
   "source": []
  }
 ],
 "metadata": {
  "language_info": {
   "name": "python"
  },
  "orig_nbformat": 4
 },
 "nbformat": 4,
 "nbformat_minor": 2
}
